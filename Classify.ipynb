{
 "cells": [
  {
   "cell_type": "code",
   "execution_count": 85,
   "metadata": {},
   "outputs": [],
   "source": [
    "import numpy as np\n",
    "import pandas as pd\n",
    "from urllib.parse import urlparse\n",
    "from tld import get_tld\n",
    "import os.path\n",
    "import scipy as sp\n",
    "import re\n",
    "\n",
    "from sklearn.feature_extraction.text import TfidfVectorizer\n",
    "from scipy.sparse import hstack\n",
    "from sklearn.ensemble import RandomForestClassifier\n",
    "from sklearn.model_selection import train_test_split\n",
    "from sklearn.metrics import confusion_matrix,classification_report,accuracy_score"
   ]
  },
  {
   "cell_type": "code",
   "execution_count": 3,
   "metadata": {},
   "outputs": [],
   "source": [
    "data = pd.read_csv(\"dataset/finalData.csv\")\n"
   ]
  },
  {
   "cell_type": "code",
   "execution_count": 27,
   "metadata": {},
   "outputs": [
    {
     "data": {
      "text/html": [
       "<div>\n",
       "<style scoped>\n",
       "    .dataframe tbody tr th:only-of-type {\n",
       "        vertical-align: middle;\n",
       "    }\n",
       "\n",
       "    .dataframe tbody tr th {\n",
       "        vertical-align: top;\n",
       "    }\n",
       "\n",
       "    .dataframe thead th {\n",
       "        text-align: right;\n",
       "    }\n",
       "</style>\n",
       "<table border=\"1\" class=\"dataframe\">\n",
       "  <thead>\n",
       "    <tr style=\"text-align: right;\">\n",
       "      <th></th>\n",
       "      <th>url</th>\n",
       "      <th>label</th>\n",
       "      <th>result</th>\n",
       "      <th>urlLength</th>\n",
       "      <th>hostLength</th>\n",
       "      <th>pathLength</th>\n",
       "      <th>dirLength</th>\n",
       "      <th>tld_length</th>\n",
       "      <th>num@</th>\n",
       "      <th>num-</th>\n",
       "      <th>num.</th>\n",
       "      <th>num?</th>\n",
       "      <th>num-www</th>\n",
       "      <th>num=</th>\n",
       "      <th>num%</th>\n",
       "      <th>num-digit</th>\n",
       "      <th>num-letter</th>\n",
       "      <th>num-dir</th>\n",
       "      <th>checkIp</th>\n",
       "      <th>isShorted</th>\n",
       "    </tr>\n",
       "  </thead>\n",
       "  <tbody>\n",
       "    <tr>\n",
       "      <th>450171</th>\n",
       "      <td>http://ecct-it.com/docmmmnn/aptgd/index.php</td>\n",
       "      <td>malicious</td>\n",
       "      <td>1</td>\n",
       "      <td>43</td>\n",
       "      <td>11</td>\n",
       "      <td>25</td>\n",
       "      <td>8</td>\n",
       "      <td>3</td>\n",
       "      <td>0</td>\n",
       "      <td>1</td>\n",
       "      <td>2</td>\n",
       "      <td>0</td>\n",
       "      <td>0</td>\n",
       "      <td>0</td>\n",
       "      <td>0</td>\n",
       "      <td>0</td>\n",
       "      <td>34</td>\n",
       "      <td>3</td>\n",
       "      <td>1</td>\n",
       "      <td>-1</td>\n",
       "    </tr>\n",
       "    <tr>\n",
       "      <th>450172</th>\n",
       "      <td>http://faboleena.com/js/infortis/jquery/plugin...</td>\n",
       "      <td>malicious</td>\n",
       "      <td>1</td>\n",
       "      <td>159</td>\n",
       "      <td>13</td>\n",
       "      <td>139</td>\n",
       "      <td>2</td>\n",
       "      <td>3</td>\n",
       "      <td>0</td>\n",
       "      <td>0</td>\n",
       "      <td>2</td>\n",
       "      <td>0</td>\n",
       "      <td>0</td>\n",
       "      <td>1</td>\n",
       "      <td>0</td>\n",
       "      <td>21</td>\n",
       "      <td>118</td>\n",
       "      <td>12</td>\n",
       "      <td>1</td>\n",
       "      <td>1</td>\n",
       "    </tr>\n",
       "    <tr>\n",
       "      <th>450173</th>\n",
       "      <td>http://faboleena.com/js/infortis/jquery/plugin...</td>\n",
       "      <td>malicious</td>\n",
       "      <td>1</td>\n",
       "      <td>147</td>\n",
       "      <td>13</td>\n",
       "      <td>127</td>\n",
       "      <td>2</td>\n",
       "      <td>3</td>\n",
       "      <td>0</td>\n",
       "      <td>0</td>\n",
       "      <td>1</td>\n",
       "      <td>0</td>\n",
       "      <td>0</td>\n",
       "      <td>1</td>\n",
       "      <td>0</td>\n",
       "      <td>20</td>\n",
       "      <td>109</td>\n",
       "      <td>12</td>\n",
       "      <td>1</td>\n",
       "      <td>1</td>\n",
       "    </tr>\n",
       "    <tr>\n",
       "      <th>450174</th>\n",
       "      <td>http://atualizapj.com/</td>\n",
       "      <td>malicious</td>\n",
       "      <td>1</td>\n",
       "      <td>22</td>\n",
       "      <td>14</td>\n",
       "      <td>1</td>\n",
       "      <td>0</td>\n",
       "      <td>3</td>\n",
       "      <td>0</td>\n",
       "      <td>0</td>\n",
       "      <td>1</td>\n",
       "      <td>0</td>\n",
       "      <td>0</td>\n",
       "      <td>0</td>\n",
       "      <td>0</td>\n",
       "      <td>0</td>\n",
       "      <td>17</td>\n",
       "      <td>1</td>\n",
       "      <td>1</td>\n",
       "      <td>1</td>\n",
       "    </tr>\n",
       "    <tr>\n",
       "      <th>450175</th>\n",
       "      <td>http://writeassociate.com/test/Portal/inicio/I...</td>\n",
       "      <td>malicious</td>\n",
       "      <td>1</td>\n",
       "      <td>143</td>\n",
       "      <td>18</td>\n",
       "      <td>118</td>\n",
       "      <td>4</td>\n",
       "      <td>3</td>\n",
       "      <td>0</td>\n",
       "      <td>1</td>\n",
       "      <td>4</td>\n",
       "      <td>0</td>\n",
       "      <td>1</td>\n",
       "      <td>0</td>\n",
       "      <td>0</td>\n",
       "      <td>9</td>\n",
       "      <td>118</td>\n",
       "      <td>7</td>\n",
       "      <td>1</td>\n",
       "      <td>1</td>\n",
       "    </tr>\n",
       "  </tbody>\n",
       "</table>\n",
       "</div>"
      ],
      "text/plain": [
       "                                                      url      label  result  \\\n",
       "450171        http://ecct-it.com/docmmmnn/aptgd/index.php  malicious       1   \n",
       "450172  http://faboleena.com/js/infortis/jquery/plugin...  malicious       1   \n",
       "450173  http://faboleena.com/js/infortis/jquery/plugin...  malicious       1   \n",
       "450174                             http://atualizapj.com/  malicious       1   \n",
       "450175  http://writeassociate.com/test/Portal/inicio/I...  malicious       1   \n",
       "\n",
       "        urlLength  hostLength  pathLength  dirLength  tld_length  num@  num-  \\\n",
       "450171         43          11          25          8           3     0     1   \n",
       "450172        159          13         139          2           3     0     0   \n",
       "450173        147          13         127          2           3     0     0   \n",
       "450174         22          14           1          0           3     0     0   \n",
       "450175        143          18         118          4           3     0     1   \n",
       "\n",
       "        num.  num?  num-www  num=  num%  num-digit  num-letter  num-dir  \\\n",
       "450171     2     0        0     0     0          0          34        3   \n",
       "450172     2     0        0     1     0         21         118       12   \n",
       "450173     1     0        0     1     0         20         109       12   \n",
       "450174     1     0        0     0     0          0          17        1   \n",
       "450175     4     0        1     0     0          9         118        7   \n",
       "\n",
       "        checkIp  isShorted  \n",
       "450171        1         -1  \n",
       "450172        1          1  \n",
       "450173        1          1  \n",
       "450174        1          1  \n",
       "450175        1          1  "
      ]
     },
     "execution_count": 27,
     "metadata": {},
     "output_type": "execute_result"
    }
   ],
   "source": [
    "# data = data.drop(\"Unnamed: 0\", axis=1)\n",
    "data.tail()"
   ]
  },
  {
   "cell_type": "code",
   "execution_count": 94,
   "metadata": {},
   "outputs": [
    {
     "name": "stdout",
     "output_type": "stream",
     "text": [
      "Total URLs: 450176\n",
      "Benign URL: 345738\n",
      "Malicious URL: 104438\n"
     ]
    }
   ],
   "source": [
    "print(\"Total URLs: {}\".format(len(data)))\n",
    "\n",
    "print(\"Benign URL: {}\".format(len(data[data['result']==0])))\n",
    "\n",
    "print(\"Malicious URL: {}\".format(len(data[data['result']==1])))"
   ]
  },
  {
   "cell_type": "code",
   "execution_count": 71,
   "metadata": {},
   "outputs": [],
   "source": [
    "def processData(url):\n",
    "    byToken = str(url.encode('utf-8')).split('/')\n",
    "    total = []\n",
    "    for t in byToken:\n",
    "        dashToken = str(t).split('-')\n",
    "        dotToken = []\n",
    "        for i in range(0, len(dashToken)):\n",
    "            temp = str(dashToken[i]).split('.')\n",
    "            dotToken += temp\n",
    "        total += dashToken + dotToken\n",
    "    return list(set(total))"
   ]
  },
  {
   "cell_type": "code",
   "execution_count": 83,
   "metadata": {
    "scrolled": false
   },
   "outputs": [],
   "source": [
    "vectorizer = TfidfVectorizer(tokenizer=processData)\n",
    "X = vectorizer.fit_transform(data['url'])\n",
    "Y = data['label']"
   ]
  },
  {
   "cell_type": "code",
   "execution_count": 73,
   "metadata": {},
   "outputs": [
    {
     "data": {
      "text/plain": [
       "Index(['url', 'label', 'result', 'urlLength', 'hostLength', 'pathLength',\n",
       "       'dirLength', 'tld_length', 'num@', 'num-', 'num.', 'num?', 'num-www',\n",
       "       'num=', 'num%', 'num-digit', 'num-letter', 'num-dir', 'checkIp',\n",
       "       'isShorted'],\n",
       "      dtype='object')"
      ]
     },
     "execution_count": 73,
     "metadata": {},
     "output_type": "execute_result"
    }
   ],
   "source": [
    "data.columns"
   ]
  },
  {
   "cell_type": "code",
   "execution_count": 75,
   "metadata": {},
   "outputs": [],
   "source": [
    "features = sp.sparse.csr_matrix(data[['urlLength', 'hostLength', 'pathLength',\n",
    "       'dirLength', 'tld_length', 'num@', 'num-', 'num.', 'num?', 'num-www',\n",
    "       'num=', 'num%', 'num-digit', 'num-letter', 'num-dir', 'checkIp',\n",
    "       'isShorted']].values)"
   ]
  },
  {
   "cell_type": "code",
   "execution_count": 81,
   "metadata": {},
   "outputs": [],
   "source": [
    "testing = hstack([X, features])"
   ]
  },
  {
   "cell_type": "code",
   "execution_count": 82,
   "metadata": {},
   "outputs": [
    {
     "data": {
      "text/plain": [
       "(450176, 780489)"
      ]
     },
     "execution_count": 82,
     "metadata": {},
     "output_type": "execute_result"
    }
   ],
   "source": [
    "testing.shape"
   ]
  },
  {
   "cell_type": "code",
   "execution_count": 86,
   "metadata": {},
   "outputs": [],
   "source": [
    "rfc = RandomForestClassifier()\n",
    "x_train, x_test, y_train, y_test = train_test_split(testing, Y, train_size=0.3, random_state=42)"
   ]
  },
  {
   "cell_type": "code",
   "execution_count": 87,
   "metadata": {},
   "outputs": [
    {
     "name": "stderr",
     "output_type": "stream",
     "text": [
      "/home/swapneel/.local/lib/python3.6/site-packages/sklearn/ensemble/forest.py:245: FutureWarning: The default value of n_estimators will change from 10 in version 0.20 to 100 in 0.22.\n",
      "  \"10 in version 0.20 to 100 in 0.22.\", FutureWarning)\n"
     ]
    },
    {
     "data": {
      "text/plain": [
       "RandomForestClassifier(bootstrap=True, class_weight=None, criterion='gini',\n",
       "                       max_depth=None, max_features='auto', max_leaf_nodes=None,\n",
       "                       min_impurity_decrease=0.0, min_impurity_split=None,\n",
       "                       min_samples_leaf=1, min_samples_split=2,\n",
       "                       min_weight_fraction_leaf=0.0, n_estimators=10,\n",
       "                       n_jobs=None, oob_score=False, random_state=None,\n",
       "                       verbose=0, warm_start=False)"
      ]
     },
     "execution_count": 87,
     "metadata": {},
     "output_type": "execute_result"
    }
   ],
   "source": [
    "rfc.fit(x_train,y_train)"
   ]
  },
  {
   "cell_type": "code",
   "execution_count": 89,
   "metadata": {},
   "outputs": [
    {
     "data": {
      "text/plain": [
       "0.9976771048856958"
      ]
     },
     "execution_count": 89,
     "metadata": {},
     "output_type": "execute_result"
    }
   ],
   "source": [
    "result = rfc.predict(x_test)\n",
    "accuracy_score(y_test, result)"
   ]
  },
  {
   "cell_type": "code",
   "execution_count": 90,
   "metadata": {},
   "outputs": [
    {
     "data": {
      "text/plain": [
       "array([[241779,    173],\n",
       "       [   559,  72613]])"
      ]
     },
     "execution_count": 90,
     "metadata": {},
     "output_type": "execute_result"
    }
   ],
   "source": [
    "confusion_matrix(y_test, result)"
   ]
  },
  {
   "cell_type": "code",
   "execution_count": 97,
   "metadata": {},
   "outputs": [
    {
     "name": "stdout",
     "output_type": "stream",
     "text": [
      "              precision    recall  f1-score   support\n",
      "\n",
      "      benign      0.998     0.999     0.998    241952\n",
      "   malicious      0.998     0.992     0.995     73172\n",
      "\n",
      "    accuracy                          0.998    315124\n",
      "   macro avg      0.998     0.996     0.997    315124\n",
      "weighted avg      0.998     0.998     0.998    315124\n",
      "\n"
     ]
    }
   ],
   "source": [
    "print(classification_report(y_test, result,digits=3))"
   ]
  },
  {
   "cell_type": "code",
   "execution_count": null,
   "metadata": {},
   "outputs": [],
   "source": []
  }
 ],
 "metadata": {
  "kernelspec": {
   "display_name": "Python 3",
   "language": "python",
   "name": "python3"
  },
  "language_info": {
   "codemirror_mode": {
    "name": "ipython",
    "version": 3
   },
   "file_extension": ".py",
   "mimetype": "text/x-python",
   "name": "python",
   "nbconvert_exporter": "python",
   "pygments_lexer": "ipython3",
   "version": "3.6.9"
  }
 },
 "nbformat": 4,
 "nbformat_minor": 2
}
